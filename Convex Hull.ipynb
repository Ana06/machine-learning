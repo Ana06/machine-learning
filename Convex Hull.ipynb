{
 "metadata": {
  "name": "",
  "signature": "sha256:7175059b4ebc3b46884559ce5b0c66d61bfc7c38e4f6d599b8dc08777068f1b9"
 },
 "nbformat": 3,
 "nbformat_minor": 0,
 "worksheets": [
  {
   "cells": [
    {
     "cell_type": "code",
     "collapsed": false,
     "input": [
      "__author__ = \"V\u00edctor Adolfo Gallego Alcal\u00e1, Ana Mar\u00eda Mart\u00ednez G\u00f3mez\"\n",
      "%matplotlib inline\n",
      "import matplotlib.pyplot as plt\n",
      "import numpy as np\n",
      "\n",
      "class Point:\n",
      "    \n",
      "    \"\"\" This class represents a point in the plane.\n",
      "    \n",
      "    __author__ = \"V\u00edctor Adolfo Gallego Alcal\u00e1, Ana Mar\u00eda Mart\u00ednez G\u00f3mez\"\n",
      "    \n",
      "    __________\n",
      "    Attributes\n",
      "    __________\n",
      "    \n",
      "    x : float\n",
      "        x-coordinate of the point\n",
      "    y : float\n",
      "        y-coordinate of the point\n",
      "    name : string\n",
      "        contains its coordinates\n",
      "    \"\"\"\n",
      "    \n",
      "    def __init__(self, x=None, y=None):\n",
      "        \"\"\" Initialize the point by giving it its x and y coordinates\n",
      "        \"\"\"\n",
      "        self.x = x\n",
      "        self.y = y\n",
      "        self.name = \"( \" + str(x) + \", \" + str(y) + \" )\"\n",
      "    \n",
      "    def __repr__(self):\n",
      "        \"\"\" Returns its name\n",
      "        \"\"\"\n",
      "        return self.name\n",
      "    \n",
      "    def __le__(self, p):\n",
      "        \"\"\" Method for <=\n",
      "        \"\"\"\n",
      "        return self.x <= p.x\n",
      "    \n",
      "    def __lt__(self, p):\n",
      "        \"\"\" Method for <\n",
      "        \"\"\"\n",
      "        return self.x < p.x\n",
      "    \n",
      "    def isLeft(self, p2, p3):\n",
      "        \"\"\" Returns 1 iff self is to the left of the segment p2p3, 0 iff it is\n",
      "        collinear and -1 iff it is to the right. It computes the sign of the determinant of\n",
      "        \n",
      "        self.x self.y 1\n",
      "         p2.x p2.y 1\n",
      "         p3.x p3.y 1\n",
      "        \"\"\"\n",
      "        return np.sign(-p2.x*self.y + p3.x*self.y + self.x*p2.y - p3.x*p2.y - self.x*p3.y + p2.x*p3.y)"
     ],
     "language": "python",
     "metadata": {},
     "outputs": [],
     "prompt_number": 1
    },
    {
     "cell_type": "code",
     "collapsed": false,
     "input": [
      "P = [Point(20*np.random.rand() - 10,20*np.random.rand() - 10) for i in range(50)]\n",
      "for p in P:\n",
      "    plt.plot(p.x, p.y, 'ok')"
     ],
     "language": "python",
     "metadata": {},
     "outputs": [
      {
       "metadata": {},
       "output_type": "display_data",
       "png": "[encoded data removed]",
       "text": [
        "<matplotlib.figure.Figure at 0x7f9126d2f2d0>"
       ]
      }
     ],
     "prompt_number": 5
    },
    {
     "cell_type": "code",
     "collapsed": false,
     "input": [
      "def rightTurn(P):\n",
      "    \"\"\" Helper function. Returns true iff the list of\n",
      "    three points P is a turn to the right\n",
      "    \"\"\"\n",
      "    return P[-1].isLeft(P[-3], P[-2]) == -1\n",
      "\n",
      "def convexHull(P):\n",
      "    \"\"\" Convex hull implemented using Graham's algorithm\n",
      "    \"\"\"\n",
      "    P.sort()\n",
      "    Lupper = P[:2]\n",
      "    for p in P[2:]:\n",
      "        Lupper.append(p)\n",
      "        while len(Lupper)>2 and not rightTurn(Lupper[-3:]):\n",
      "            del Lupper[-2]\n",
      "\n",
      "    P.reverse()\n",
      "    Llower = P[:2]\n",
      "    for p in P[2:]:\n",
      "        Llower.append(p)\n",
      "        while len(Llower)>2 and not rightTurn(Llower[-3:]):\n",
      "            del Llower[-2]\n",
      "    del Llower[0]\n",
      "    del Llower[-1]\n",
      "    Lupper += Llower\n",
      "    return Lupper"
     ],
     "language": "python",
     "metadata": {},
     "outputs": [],
     "prompt_number": 6
    },
    {
     "cell_type": "code",
     "collapsed": false,
     "input": [
      "L = convexHull(P)\n",
      "L.append(L[0])\n",
      "plt.hold(True)\n",
      "for i in range(len(L)-1):\n",
      "    plt.plot([L[i].x, L[i+1].x], [L[i].y, L[i+1].y], 'r')\n",
      "    \n",
      "for p in P:\n",
      "    plt.plot(p.x, p.y, 'ok')"
     ],
     "language": "python",
     "metadata": {},
     "outputs": [
      {
       "metadata": {},
       "output_type": "display_data",
       "png": "[encoded data removed]",
       "text": [
        "<matplotlib.figure.Figure at 0x7f91269de090>"
       ]
      }
     ],
     "prompt_number": 7
    },
    {
     "cell_type": "code",
     "collapsed": false,
     "input": [],
     "language": "python",
     "metadata": {},
     "outputs": []
    }
   ],
   "metadata": {}
  }
 ]
}